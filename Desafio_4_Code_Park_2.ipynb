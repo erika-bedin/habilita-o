{
  "nbformat": 4,
  "nbformat_minor": 0,
  "metadata": {
    "colab": {
      "provenance": [],
      "include_colab_link": true
    },
    "kernelspec": {
      "name": "python3",
      "display_name": "Python 3"
    },
    "language_info": {
      "name": "python"
    }
  },
  "cells": [
    {
      "cell_type": "markdown",
      "metadata": {
        "id": "view-in-github",
        "colab_type": "text"
      },
      "source": [
        "<a href=\"https://colab.research.google.com/github/erika-bedin/habilita-o/blob/main/Desafio_4_Code_Park_2.ipynb\" target=\"_parent\"><img src=\"https://colab.research.google.com/assets/colab-badge.svg\" alt=\"Open In Colab\"/></a>"
      ]
    },
    {
      "cell_type": "code",
      "execution_count": 1,
      "metadata": {
        "colab": {
          "base_uri": "https://localhost:8080/"
        },
        "id": "SNQVuJGNqliN",
        "outputId": "19bee7cf-d829-4c85-a9d5-3e891e895ae6"
      },
      "outputs": [
        {
          "output_type": "stream",
          "name": "stdout",
          "text": [
            "Categoria C\n"
          ]
        }
      ],
      "source": [
        "# Veículos com duas ou três rodas;\n",
        "# Veículos com quatro rodas, que acomodam até oito pessoas e seu peso é de até 3500 kg;\n",
        "# Veículos com quatro rodas ou mais e com peso entre 3500 e 6000 kg;\n",
        "# Veículos com quatro rodas ou mais e que acomodam mais de oito pessoas; \n",
        "# Veículos com quatro rodas ou mais e com mais de 6000 kg.\n",
        "\n",
        "rodas = 10\n",
        "peso = 5000\n",
        "pessoas = 10\n",
        "\n",
        "# Categoria C\n",
        "\n",
        "if ((rodas == 2) or (rodas == 3)):\n",
        "    print(\"Categoria A\")\n",
        "elif ((rodas == 4) and ((peso <= 3500) and (pessoas <= 8))):\n",
        "    print(\"Categoria B\")\n",
        "elif ((rodas >= 4) and ((peso > 3500) and (peso <= 6000))):\n",
        "    print(\"Categoria C\")\n",
        "elif ((rodas >= 4) and (pessoas > 8)):\n",
        "    print(\"Categoria D\")\n",
        "elif ((rodas >= 4) and (peso > 6000)):\n",
        "    print(\"Categoria E\")\n"
      ]
    }
  ]
}